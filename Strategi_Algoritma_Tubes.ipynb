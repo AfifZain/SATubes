{
  "cells": [
    {
      "cell_type": "markdown",
      "source": [
        "Tugas Besar Strategi Algoritma\n",
        "\n",
        "Nama Anggota Kelompok:\n",
        "\n",
        "\n",
        "*   M Afif Zain | 103012380548\n",
        "*   Devana Gema Falesta | 103012380513\n",
        "*   Niesya Yulianny | 103012380523\n",
        "\n",
        "\n",
        "\n"
      ],
      "metadata": {
        "id": "DkbrukD9o5xt"
      }
    },
    {
      "cell_type": "code",
      "execution_count": 1,
      "metadata": {
        "id": "6UpaqLN106CK"
      },
      "outputs": [],
      "source": [
        "from itertools import combinations\n",
        "import time\n",
        "\n",
        "# Data makanan 10\n",
        "# makanan = makanan_10 = [\n",
        "#     (\"Nasi Goreng Ayam\", 450, 20, False),\n",
        "#     (\"Sate Ayam\", 300, 25, True),  # Mengandung alergen kacang\n",
        "#     (\"Sup Tomat\", 100, 2, False),\n",
        "#     (\"Salad Buah\", 120, 1, False),\n",
        "#     (\"Udang Goreng Tepung\", 250, 15, True),  # Mengandung alergen seafood\n",
        "#     (\"Rendang Sapi\", 500, 30, False),\n",
        "#     (\"Mie Goreng\", 400, 10, False),\n",
        "#     (\"Bubur Ayam\", 200, 15, False),\n",
        "#     (\"Ayam Bakar\", 350, 25, False),\n",
        "#     (\"Gado-Gado\", 300, 10, True),  # Mengandung alergen kacang\n",
        "# ]\n",
        "\n",
        "# Data makanan 20\n",
        "makanan = makanan_20 = [\n",
        "    (\"Nasi Goreng Ayam\", 450, 20, False),\n",
        "    (\"Sate Ayam\", 300, 25, True),  # Mengandung alergen kacang\n",
        "    (\"Sup Tomat\", 100, 2, False),\n",
        "    (\"Salad Buah\", 120, 1, False),\n",
        "    (\"Udang Goreng Tepung\", 250, 15, True),  # Mengandung alergen seafood\n",
        "    (\"Rendang Sapi\", 500, 30, False),\n",
        "    (\"Mie Goreng\", 400, 10, False),\n",
        "    (\"Bubur Ayam\", 200, 15, False),\n",
        "    (\"Ayam Bakar\", 350, 25, False),\n",
        "    (\"Gado-Gado\", 300, 10, True),  # Mengandung alergen kacang\n",
        "    (\"Soto Ayam\", 250, 20, False),\n",
        "    (\"Bakso Sapi\", 325, 15, False),\n",
        "    (\"Pempek\", 400, 10, True),  # Mengandung alergen seafood\n",
        "    (\"Nasi Uduk\", 450, 10, False),\n",
        "    (\"Ayam Geprek\", 500, 30, False),\n",
        "    (\"Tahu Goreng\", 150, 8, False),\n",
        "    (\"Tempe Bacem\", 200, 12, False),\n",
        "    (\"Ikan Bakar\", 300, 25, True),  # Mengandung alergen seafood\n",
        "    (\"Capcay\", 150, 5, False),\n",
        "    (\"Nasi Kuning\", 400, 8, False),\n",
        "]\n",
        "\n",
        "\n",
        "# Batasan kalori (kkal)\n",
        "batas_kalori = 1000\n",
        "# Total protein minimum (g)\n",
        "total_protein_minimum = 50\n",
        "# Pengguna alergi kacang dan seafood\n",
        "alergi = [\"Kacang\", \"Seafood\"]\n"
      ]
    },
    {
      "cell_type": "markdown",
      "metadata": {
        "id": "2Fbx-Ft3Mwla"
      },
      "source": [
        "## Brute Force"
      ]
    },
    {
      "cell_type": "code",
      "execution_count": null,
      "metadata": {
        "id": "mOMgNohzMwVC"
      },
      "outputs": [],
      "source": [
        "# Fungsi untuk menghitung total kalori dan protein\n",
        "def hitung_total(combination):\n",
        "    total_kalori = sum(item[1] for item in combination)\n",
        "    total_protein = sum(item[2] for item in combination)\n",
        "    return total_kalori, total_protein\n",
        "\n",
        "# Fungsi untuk memeriksa alergen\n",
        "def cek_alergen(combination):\n",
        "    return any(item[3] for item in combination)\n",
        "\n",
        "# Mulai menghitung waktu\n",
        "start_time = time.time()\n",
        "\n",
        "# Mencari kombinasi optimal\n",
        "optimal_combination = None\n",
        "optimal_kalori = 0\n",
        "optimal_protein = 0\n",
        "\n",
        "for r in range(1, len(makanan) + 1):\n",
        "    for comb in combinations(makanan, r):\n",
        "        total_kalori, total_protein = hitung_total(comb)\n",
        "        if total_kalori <= batas_kalori and total_protein >= total_protein_minimum and not cek_alergen(comb):\n",
        "            if total_protein > optimal_protein or (total_protein == optimal_protein and total_kalori < optimal_kalori):\n",
        "                optimal_combination = comb\n",
        "                optimal_kalori = total_kalori\n",
        "                optimal_protein = total_protein\n",
        "\n",
        "# Mulai menghitung waktu\n",
        "end_time = time.time()\n",
        "\n",
        "# Output hasil\n",
        "if optimal_combination:\n",
        "    print(\"Kombinasi menu makanan optimal:\")\n",
        "    for item in optimal_combination:\n",
        "        print(f\"- {item[0]}\")\n",
        "    print(f\"Total Kalori: {optimal_kalori} kkal\")\n",
        "    print(f\"Total Protein: {optimal_protein} g\")\n",
        "else:\n",
        "    print(\"Tidak ada kombinasi makanan yang memenuhi batasan.\")\n",
        "\n",
        "print(f\"Running Time: {(end_time - start_time) * 1000} milidetik\")"
      ]
    },
    {
      "cell_type": "markdown",
      "metadata": {
        "id": "76SkiWJbM_vK"
      },
      "source": [
        "## Greedy"
      ]
    },
    {
      "cell_type": "code",
      "execution_count": null,
      "metadata": {
        "id": "M9PoLIFWNACu"
      },
      "outputs": [],
      "source": [
        "# Mengurutkan makanan berdasarkan rasio protein per kalori\n",
        "makanan_sorted = sorted(makanan, key=lambda x: x[2] / x[1], reverse=True)\n",
        "\n",
        "# Fungsi untuk memeriksa alergen\n",
        "def cek_alergen(item):\n",
        "    return item[3]\n",
        "\n",
        "# Mulai menghitung waktu\n",
        "start_time = time.time()\n",
        "\n",
        "chosen_items = []\n",
        "total_kalori = 0\n",
        "total_protein = 0\n",
        "\n",
        "for item in makanan_sorted:\n",
        "    if not cek_alergen(item) and total_kalori + item[1] <= batas_kalori:\n",
        "        chosen_items.append(item)\n",
        "        total_kalori += item[1]\n",
        "        total_protein += item[2]\n",
        "        if total_protein >= total_protein_minimum:\n",
        "            break\n",
        "\n",
        "# Menghitung waktu berakhir\n",
        "end_time = time.time()\n",
        "\n",
        "# Output hasil\n",
        "if total_protein >= total_protein_minimum:\n",
        "    print(\"Kombinasi menu makanan optimal (Greedy):\")\n",
        "    for item in chosen_items:\n",
        "        print(f\"- {item[0]}\")\n",
        "    print(f\"Total Kalori: {total_kalori} kkal\")\n",
        "    print(f\"Total Protein: {total_protein} g\")\n",
        "else:\n",
        "    print(\"Tidak ada kombinasi makanan yang memenuhi batasan.\")\n",
        "\n",
        "print(f\"Running Time: {(end_time - start_time) * 1000} milidetik\")"
      ]
    }
  ],
  "metadata": {
    "colab": {
      "provenance": []
    },
    "kernelspec": {
      "display_name": "Python 3",
      "name": "python3"
    },
    "language_info": {
      "name": "python"
    }
  },
  "nbformat": 4,
  "nbformat_minor": 0
}